{
 "cells": [
  {
   "cell_type": "code",
   "execution_count": 15,
   "id": "68fbf05c-c8b5-4fec-893a-6de984fe9e27",
   "metadata": {},
   "outputs": [],
   "source": [
    "import pandas as pd\n",
    "from sklearn.linear_model import LinearRegression\n",
    "from sklearn.model_selection import train_test_split"
   ]
  },
  {
   "cell_type": "code",
   "execution_count": 3,
   "id": "0894408f-dda4-4bea-a7cf-155110144590",
   "metadata": {},
   "outputs": [],
   "source": [
    "model = LinearRegression()"
   ]
  },
  {
   "cell_type": "code",
   "execution_count": 7,
   "id": "b0a59c29-d3e2-4415-ad5d-1791106fc047",
   "metadata": {},
   "outputs": [
    {
     "data": {
      "text/html": [
       "<div>\n",
       "<style scoped>\n",
       "    .dataframe tbody tr th:only-of-type {\n",
       "        vertical-align: middle;\n",
       "    }\n",
       "\n",
       "    .dataframe tbody tr th {\n",
       "        vertical-align: top;\n",
       "    }\n",
       "\n",
       "    .dataframe thead th {\n",
       "        text-align: right;\n",
       "    }\n",
       "</style>\n",
       "<table border=\"1\" class=\"dataframe\">\n",
       "  <thead>\n",
       "    <tr style=\"text-align: right;\">\n",
       "      <th></th>\n",
       "      <th>转发量</th>\n",
       "      <th>品类热度</th>\n",
       "      <th>流量推送</th>\n",
       "      <th>成交额</th>\n",
       "    </tr>\n",
       "  </thead>\n",
       "  <tbody>\n",
       "    <tr>\n",
       "      <th>0</th>\n",
       "      <td>2646</td>\n",
       "      <td>7</td>\n",
       "      <td>5</td>\n",
       "      <td>260004</td>\n",
       "    </tr>\n",
       "    <tr>\n",
       "      <th>1</th>\n",
       "      <td>816</td>\n",
       "      <td>4</td>\n",
       "      <td>6</td>\n",
       "      <td>100004</td>\n",
       "    </tr>\n",
       "    <tr>\n",
       "      <th>2</th>\n",
       "      <td>1224</td>\n",
       "      <td>6</td>\n",
       "      <td>5</td>\n",
       "      <td>164502</td>\n",
       "    </tr>\n",
       "    <tr>\n",
       "      <th>3</th>\n",
       "      <td>1261</td>\n",
       "      <td>6</td>\n",
       "      <td>6</td>\n",
       "      <td>163001</td>\n",
       "    </tr>\n",
       "    <tr>\n",
       "      <th>4</th>\n",
       "      <td>1720</td>\n",
       "      <td>7</td>\n",
       "      <td>5</td>\n",
       "      <td>260401</td>\n",
       "    </tr>\n",
       "  </tbody>\n",
       "</table>\n",
       "</div>"
      ],
      "text/plain": [
       "    转发量  品类热度  流量推送     成交额\n",
       "0  2646     7     5  260004\n",
       "1   816     4     6  100004\n",
       "2  1224     6     5  164502\n",
       "3  1261     6     6  163001\n",
       "4  1720     7     5  260401"
      ]
     },
     "execution_count": 7,
     "metadata": {},
     "output_type": "execute_result"
    }
   ],
   "source": [
    "data = pd.read_csv('直播带货.csv')\n",
    "data.head()"
   ]
  },
  {
   "cell_type": "code",
   "execution_count": 12,
   "id": "a622f300-70e0-4676-87f1-ca2576512350",
   "metadata": {},
   "outputs": [
    {
     "name": "stdout",
     "output_type": "stream",
     "text": [
      "    转发量  品类热度  流量推送\n",
      "0  2646     7     5\n",
      "1   816     4     6\n",
      "2  1224     6     5\n",
      "3  1261     6     6\n",
      "4  1720     7     5\n",
      "----\n",
      "0    260004\n",
      "1    100004\n",
      "2    164502\n",
      "3    163001\n",
      "4    260401\n",
      "Name: 成交额, dtype: int64\n"
     ]
    }
   ],
   "source": [
    "x = data.drop('成交额', axis=1)\n",
    "y = data['成交额']\n",
    "print(x.head())\n",
    "print('----')\n",
    "print(y.head())"
   ]
  },
  {
   "cell_type": "code",
   "execution_count": 19,
   "id": "7bc372bd-9e75-4d4f-b346-7286a949de25",
   "metadata": {},
   "outputs": [
    {
     "name": "stdout",
     "output_type": "stream",
     "text": [
      "(1168, 3)\n",
      "(292, 3)\n",
      "(1168,)\n",
      "(292,)\n"
     ]
    }
   ],
   "source": [
    "X_train, X_test, y_train, y_test = train_test_split(x, y, test_size=0.2)\n",
    "print(X_train.shape)\n",
    "print(X_test.shape)\n",
    "print(y_train.shape)\n",
    "print(y_test.shape)"
   ]
  },
  {
   "cell_type": "code",
   "execution_count": 20,
   "id": "9d45b7f0-489e-49f6-9612-2cc0d6a601e0",
   "metadata": {},
   "outputs": [
    {
     "data": {
      "text/html": [
       "<style>#sk-container-id-2 {color: black;}#sk-container-id-2 pre{padding: 0;}#sk-container-id-2 div.sk-toggleable {background-color: white;}#sk-container-id-2 label.sk-toggleable__label {cursor: pointer;display: block;width: 100%;margin-bottom: 0;padding: 0.3em;box-sizing: border-box;text-align: center;}#sk-container-id-2 label.sk-toggleable__label-arrow:before {content: \"▸\";float: left;margin-right: 0.25em;color: #696969;}#sk-container-id-2 label.sk-toggleable__label-arrow:hover:before {color: black;}#sk-container-id-2 div.sk-estimator:hover label.sk-toggleable__label-arrow:before {color: black;}#sk-container-id-2 div.sk-toggleable__content {max-height: 0;max-width: 0;overflow: hidden;text-align: left;background-color: #f0f8ff;}#sk-container-id-2 div.sk-toggleable__content pre {margin: 0.2em;color: black;border-radius: 0.25em;background-color: #f0f8ff;}#sk-container-id-2 input.sk-toggleable__control:checked~div.sk-toggleable__content {max-height: 200px;max-width: 100%;overflow: auto;}#sk-container-id-2 input.sk-toggleable__control:checked~label.sk-toggleable__label-arrow:before {content: \"▾\";}#sk-container-id-2 div.sk-estimator input.sk-toggleable__control:checked~label.sk-toggleable__label {background-color: #d4ebff;}#sk-container-id-2 div.sk-label input.sk-toggleable__control:checked~label.sk-toggleable__label {background-color: #d4ebff;}#sk-container-id-2 input.sk-hidden--visually {border: 0;clip: rect(1px 1px 1px 1px);clip: rect(1px, 1px, 1px, 1px);height: 1px;margin: -1px;overflow: hidden;padding: 0;position: absolute;width: 1px;}#sk-container-id-2 div.sk-estimator {font-family: monospace;background-color: #f0f8ff;border: 1px dotted black;border-radius: 0.25em;box-sizing: border-box;margin-bottom: 0.5em;}#sk-container-id-2 div.sk-estimator:hover {background-color: #d4ebff;}#sk-container-id-2 div.sk-parallel-item::after {content: \"\";width: 100%;border-bottom: 1px solid gray;flex-grow: 1;}#sk-container-id-2 div.sk-label:hover label.sk-toggleable__label {background-color: #d4ebff;}#sk-container-id-2 div.sk-serial::before {content: \"\";position: absolute;border-left: 1px solid gray;box-sizing: border-box;top: 0;bottom: 0;left: 50%;z-index: 0;}#sk-container-id-2 div.sk-serial {display: flex;flex-direction: column;align-items: center;background-color: white;padding-right: 0.2em;padding-left: 0.2em;position: relative;}#sk-container-id-2 div.sk-item {position: relative;z-index: 1;}#sk-container-id-2 div.sk-parallel {display: flex;align-items: stretch;justify-content: center;background-color: white;position: relative;}#sk-container-id-2 div.sk-item::before, #sk-container-id-2 div.sk-parallel-item::before {content: \"\";position: absolute;border-left: 1px solid gray;box-sizing: border-box;top: 0;bottom: 0;left: 50%;z-index: -1;}#sk-container-id-2 div.sk-parallel-item {display: flex;flex-direction: column;z-index: 1;position: relative;background-color: white;}#sk-container-id-2 div.sk-parallel-item:first-child::after {align-self: flex-end;width: 50%;}#sk-container-id-2 div.sk-parallel-item:last-child::after {align-self: flex-start;width: 50%;}#sk-container-id-2 div.sk-parallel-item:only-child::after {width: 0;}#sk-container-id-2 div.sk-dashed-wrapped {border: 1px dashed gray;margin: 0 0.4em 0.5em 0.4em;box-sizing: border-box;padding-bottom: 0.4em;background-color: white;}#sk-container-id-2 div.sk-label label {font-family: monospace;font-weight: bold;display: inline-block;line-height: 1.2em;}#sk-container-id-2 div.sk-label-container {text-align: center;}#sk-container-id-2 div.sk-container {/* jupyter's `normalize.less` sets `[hidden] { display: none; }` but bootstrap.min.css set `[hidden] { display: none !important; }` so we also need the `!important` here to be able to override the default hidden behavior on the sphinx rendered scikit-learn.org. See: https://github.com/scikit-learn/scikit-learn/issues/21755 */display: inline-block !important;position: relative;}#sk-container-id-2 div.sk-text-repr-fallback {display: none;}</style><div id=\"sk-container-id-2\" class=\"sk-top-container\"><div class=\"sk-text-repr-fallback\"><pre>LinearRegression()</pre><b>In a Jupyter environment, please rerun this cell to show the HTML representation or trust the notebook. <br />On GitHub, the HTML representation is unable to render, please try loading this page with nbviewer.org.</b></div><div class=\"sk-container\" hidden><div class=\"sk-item\"><div class=\"sk-estimator sk-toggleable\"><input class=\"sk-toggleable__control sk-hidden--visually\" id=\"sk-estimator-id-2\" type=\"checkbox\" checked><label for=\"sk-estimator-id-2\" class=\"sk-toggleable__label sk-toggleable__label-arrow\">LinearRegression</label><div class=\"sk-toggleable__content\"><pre>LinearRegression()</pre></div></div></div></div></div>"
      ],
      "text/plain": [
       "LinearRegression()"
      ]
     },
     "execution_count": 20,
     "metadata": {},
     "output_type": "execute_result"
    }
   ],
   "source": [
    "model.fit(X_train, y_train) # 拟合数据"
   ]
  },
  {
   "cell_type": "code",
   "execution_count": 22,
   "id": "03279f6c-c335-4526-b86a-557a97084036",
   "metadata": {},
   "outputs": [],
   "source": [
    "y_predict = model.predict(X_test)"
   ]
  },
  {
   "cell_type": "code",
   "execution_count": 29,
   "id": "36e2e99a-e894-4ef4-91ba-1f2b6d351577",
   "metadata": {},
   "outputs": [
    {
     "data": {
      "text/html": [
       "<div>\n",
       "<style scoped>\n",
       "    .dataframe tbody tr th:only-of-type {\n",
       "        vertical-align: middle;\n",
       "    }\n",
       "\n",
       "    .dataframe tbody tr th {\n",
       "        vertical-align: top;\n",
       "    }\n",
       "\n",
       "    .dataframe thead th {\n",
       "        text-align: right;\n",
       "    }\n",
       "</style>\n",
       "<table border=\"1\" class=\"dataframe\">\n",
       "  <thead>\n",
       "    <tr style=\"text-align: right;\">\n",
       "      <th></th>\n",
       "      <th>转发量</th>\n",
       "      <th>品类热度</th>\n",
       "      <th>流量推送</th>\n",
       "      <th>成交额</th>\n",
       "      <th>成交额预测值</th>\n",
       "      <th>差值</th>\n",
       "    </tr>\n",
       "  </thead>\n",
       "  <tbody>\n",
       "    <tr>\n",
       "      <th>294</th>\n",
       "      <td>1135</td>\n",
       "      <td>7</td>\n",
       "      <td>9</td>\n",
       "      <td>155002</td>\n",
       "      <td>188576.291430</td>\n",
       "      <td>-0.216606</td>\n",
       "    </tr>\n",
       "    <tr>\n",
       "      <th>480</th>\n",
       "      <td>803</td>\n",
       "      <td>5</td>\n",
       "      <td>6</td>\n",
       "      <td>87001</td>\n",
       "      <td>103462.238625</td>\n",
       "      <td>-0.189207</td>\n",
       "    </tr>\n",
       "    <tr>\n",
       "      <th>460</th>\n",
       "      <td>789</td>\n",
       "      <td>5</td>\n",
       "      <td>5</td>\n",
       "      <td>115001</td>\n",
       "      <td>102360.871792</td>\n",
       "      <td>0.109913</td>\n",
       "    </tr>\n",
       "    <tr>\n",
       "      <th>536</th>\n",
       "      <td>1338</td>\n",
       "      <td>8</td>\n",
       "      <td>5</td>\n",
       "      <td>213504</td>\n",
       "      <td>231829.401857</td>\n",
       "      <td>-0.085832</td>\n",
       "    </tr>\n",
       "    <tr>\n",
       "      <th>47</th>\n",
       "      <td>968</td>\n",
       "      <td>3</td>\n",
       "      <td>6</td>\n",
       "      <td>37905</td>\n",
       "      <td>48607.450628</td>\n",
       "      <td>-0.282349</td>\n",
       "    </tr>\n",
       "    <tr>\n",
       "      <th>...</th>\n",
       "      <td>...</td>\n",
       "      <td>...</td>\n",
       "      <td>...</td>\n",
       "      <td>...</td>\n",
       "      <td>...</td>\n",
       "      <td>...</td>\n",
       "    </tr>\n",
       "    <tr>\n",
       "      <th>418</th>\n",
       "      <td>1040</td>\n",
       "      <td>5</td>\n",
       "      <td>5</td>\n",
       "      <td>133703</td>\n",
       "      <td>117230.643751</td>\n",
       "      <td>0.123201</td>\n",
       "    </tr>\n",
       "    <tr>\n",
       "      <th>1159</th>\n",
       "      <td>1344</td>\n",
       "      <td>5</td>\n",
       "      <td>7</td>\n",
       "      <td>147001</td>\n",
       "      <td>135784.202360</td>\n",
       "      <td>0.076304</td>\n",
       "    </tr>\n",
       "    <tr>\n",
       "      <th>850</th>\n",
       "      <td>986</td>\n",
       "      <td>6</td>\n",
       "      <td>5</td>\n",
       "      <td>102005</td>\n",
       "      <td>146346.438151</td>\n",
       "      <td>-0.434699</td>\n",
       "    </tr>\n",
       "    <tr>\n",
       "      <th>153</th>\n",
       "      <td>1484</td>\n",
       "      <td>6</td>\n",
       "      <td>5</td>\n",
       "      <td>174003</td>\n",
       "      <td>175849.013592</td>\n",
       "      <td>-0.010609</td>\n",
       "    </tr>\n",
       "    <tr>\n",
       "      <th>373</th>\n",
       "      <td>864</td>\n",
       "      <td>5</td>\n",
       "      <td>8</td>\n",
       "      <td>129004</td>\n",
       "      <td>107619.962230</td>\n",
       "      <td>0.165763</td>\n",
       "    </tr>\n",
       "  </tbody>\n",
       "</table>\n",
       "<p>292 rows × 6 columns</p>\n",
       "</div>"
      ],
      "text/plain": [
       "       转发量  品类热度  流量推送     成交额         成交额预测值        差值\n",
       "294   1135     7     9  155002  188576.291430 -0.216606\n",
       "480    803     5     6   87001  103462.238625 -0.189207\n",
       "460    789     5     5  115001  102360.871792  0.109913\n",
       "536   1338     8     5  213504  231829.401857 -0.085832\n",
       "47     968     3     6   37905   48607.450628 -0.282349\n",
       "...    ...   ...   ...     ...            ...       ...\n",
       "418   1040     5     5  133703  117230.643751  0.123201\n",
       "1159  1344     5     7  147001  135784.202360  0.076304\n",
       "850    986     6     5  102005  146346.438151 -0.434699\n",
       "153   1484     6     5  174003  175849.013592 -0.010609\n",
       "373    864     5     8  129004  107619.962230  0.165763\n",
       "\n",
       "[292 rows x 6 columns]"
      ]
     },
     "execution_count": 29,
     "metadata": {},
     "output_type": "execute_result"
    }
   ],
   "source": [
    "X_test['成交额'] = y_test\n",
    "X_test['成交额预测值'] = y_predict\n",
    "X_test['差值'] = (X_test['成交额'] - X_test['成交额预测值']) / X_test['成交额']\n",
    "X_test"
   ]
  }
 ],
 "metadata": {
  "kernelspec": {
   "display_name": "Python 3 (ipykernel)",
   "language": "python",
   "name": "python3"
  },
  "language_info": {
   "codemirror_mode": {
    "name": "ipython",
    "version": 3
   },
   "file_extension": ".py",
   "mimetype": "text/x-python",
   "name": "python",
   "nbconvert_exporter": "python",
   "pygments_lexer": "ipython3",
   "version": "3.11.5"
  }
 },
 "nbformat": 4,
 "nbformat_minor": 5
}
